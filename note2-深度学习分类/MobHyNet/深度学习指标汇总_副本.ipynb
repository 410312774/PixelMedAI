{
 "cells": [
  {
   "cell_type": "code",
   "execution_count": null,
   "metadata": {},
   "outputs": [],
   "source": [
    "import os\n",
    "import pandas as pd\n",
    "import numpy as np\n",
    "from pixelmed_calc.medical_imaging.RadiologyComponents.components1 import calculate_metrics_with_ci as metrics\n",
    "from pixelmed_calc.medical_imaging.RadiologyComponents.components1 import HosmerLemeshow\n",
    "from pixelmed_calc.medical_imaging.Ploting.plot_metric import plot_multiple_ROCs,plot_calibration_curves,plot_DCA_curve\n",
    "def calculate_metrics_and_ci(csv_path, dataset_name, model_name):\n",
    "    data = pd.read_csv(csv_path)\n",
    "    ytrue = data['target']\n",
    "    yprob = data['probability_1']\n",
    "    metric, ci = metrics(np.array(ytrue), np.array(yprob))\n",
    "    \n",
    "    result = {\n",
    "        'Dataset': dataset_name,\n",
    "        'Model': model_name,\n",
    "        'Threshold': metric['threshold'],\n",
    "        'ACC': metric['accuracy'],\n",
    "        'AUC': metric['auc'],\n",
    "        'Sensitivity': metric['sensitivity'],\n",
    "        'Specificity': metric['specificity'],\n",
    "        'NPV': metric['npv'],\n",
    "        'PPV': metric['ppv'],\n",
    "        'F1': metric['f1'],\n",
    "    }\n",
    "    ci_result = {\n",
    "        'Dataset': dataset_name,\n",
    "        'Model': model_name,\n",
    "        'ACC': ci['accuracy'],\n",
    "        'AUC': ci['auc'],\n",
    "        'Sensitivity': ci['sensitivity'],\n",
    "        'Specificity': ci['specificity'],\n",
    "        'NPV': ci['npv'],\n",
    "        'PPV': ci['ppv'],\n",
    "        'F1': ci['f1'],\n",
    "    }\n",
    "    \n",
    "    return result, ci_result\n",
    "# Initialize results DataFrame\n",
    "results = pd.DataFrame(columns=['Dataset', 'Model', 'Threshold', 'ACC', 'AUC', 'Sensitivity', 'Specificity', 'NPV', 'PPV', 'F1'])\n",
    "ci_results = pd.DataFrame(columns=['Dataset', 'Model', 'ACC', 'AUC', 'Sensitivity', 'Specificity', 'NPV', 'PPV', 'F1'])\n",
    "# Define the structure of directories and files\n",
    "base_dir = r\"/Users/y2k/workstation_y2k/132liver/run_ecv_20250808/Cox/DL_sign/group/ECV_Contrast_Clinic\"\n",
    "datasets = ['train', 'val','test']  # List of dataset names\n",
    "models = ['ECV_Contrast_Clinic']  # List of model names\n",
    "gt_list=[]\n",
    "prob_list=[]\n",
    "# Iterate over each model and dataset\n",
    "for model_name in models:\n",
    "    for dataset_name in datasets:\n",
    "        csv_path = os.path.join(base_dir,  f'ECV_Contrast_Clinic_{dataset_name}_metrics_epoch_1.csv')\n",
    "        res_csv=pd.read_csv(csv_path)\n",
    "        gt_list.append(res_csv['target'])\n",
    "        prob_list.append(res_csv['probability_1'])\n",
    "        plot_multiple_ROCs([res_csv['target']],[res_csv['probability_1']],models=[dataset_name])\n",
    "        plot_DCA_curve(res_csv['probability_1'],res_csv['target'],model=f\"{dataset_name}-vit\")\n",
    "        #csv_path = os.path.join(base_dir, 'model_name', f'{dataset_name}_metrics_epoch_1.csv')\n",
    "        if os.path.exists(csv_path):\n",
    "            result, ci_result = calculate_metrics_and_ci(csv_path, dataset_name, model_name)\n",
    "            results = pd.concat([results, pd.DataFrame([result])], ignore_index=True)\n",
    "            ci_results = pd.concat([ci_results, pd.DataFrame([ci_result])], ignore_index=True)\n",
    "        else:\n",
    "            print(f\"File not found: {csv_path}\")\n",
    "plot_multiple_ROCs(gt_list,prob_list,models=datasets)\n",
    "# 查看结果\n",
    "display(results)\n",
    "results.to_csv('results.csv', index=False)\n",
    "display(ci_results)\n",
    "ci_results.to_csv('ci_results.csv', index=False)"
   ]
  },
  {
   "cell_type": "code",
   "execution_count": null,
   "metadata": {},
   "outputs": [],
   "source": [
    "plot_calibration_curves(gt_list,prob_list,models=datasets,title='')"
   ]
  },
  {
   "cell_type": "markdown",
   "metadata": {},
   "source": [
    "HosmerLemeshow 检验"
   ]
  },
  {
   "cell_type": "code",
   "execution_count": null,
   "metadata": {},
   "outputs": [],
   "source": [
    "for set ,gt, prob in zip(datasets,gt_list,prob_list):\n",
    "    hl=HosmerLemeshow(gt,prob)\n",
    "    print(set,hl)\n"
   ]
  }
 ],
 "metadata": {
  "kernelspec": {
   "display_name": "pm38web",
   "language": "python",
   "name": "python3"
  },
  "language_info": {
   "codemirror_mode": {
    "name": "ipython",
    "version": 3
   },
   "file_extension": ".py",
   "mimetype": "text/x-python",
   "name": "python",
   "nbconvert_exporter": "python",
   "pygments_lexer": "ipython3",
   "version": "3.8.18"
  }
 },
 "nbformat": 4,
 "nbformat_minor": 2
}
